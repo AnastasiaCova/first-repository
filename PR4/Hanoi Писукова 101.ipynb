{
 "cells": [
  {
   "cell_type": "code",
   "execution_count": 6,
   "metadata": {},
   "outputs": [
    {
     "name": "stdout",
     "output_type": "stream",
     "text": [
      "1 от A до B\n",
      "2 от A до C\n",
      "1 от B до C\n",
      "3 от A до B\n",
      "1 от C до A\n",
      "2 от C до B\n",
      "1 от A до B\n"
     ]
    }
   ],
   "source": [
    "def tower(n, from_a, to_b, other_c):\n",
    "    if n==0:\n",
    "        return #разворот рекурсии при значении n = 0\n",
    "    else:\n",
    "        tower(n-1, from_a, other_c, to_b) # рекурсия для перекладывания n-1 колец на вспомогательное колышко\n",
    "        print(n, 'от', from_a, 'до', to_b)\n",
    "        tower(n-1,other_c, to_b, from_a) # рекурсия для перекладывания n-1 колец на кольцо n на финальном колышке\n",
    "        \n",
    "tower(3,'A','B','C')\n"
   ]
  },
  {
   "cell_type": "code",
   "execution_count": null,
   "metadata": {},
   "outputs": [],
   "source": []
  }
 ],
 "metadata": {
  "kernelspec": {
   "display_name": "Python 3",
   "language": "python",
   "name": "python3"
  },
  "language_info": {
   "codemirror_mode": {
    "name": "ipython",
    "version": 3
   },
   "file_extension": ".py",
   "mimetype": "text/x-python",
   "name": "python",
   "nbconvert_exporter": "python",
   "pygments_lexer": "ipython3",
   "version": "3.8.3"
  }
 },
 "nbformat": 4,
 "nbformat_minor": 4
}
