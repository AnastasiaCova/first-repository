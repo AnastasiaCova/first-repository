{
 "cells": [
  {
   "cell_type": "code",
   "execution_count": 4,
   "metadata": {},
   "outputs": [
    {
     "name": "stdout",
     "output_type": "stream",
     "text": [
      "Новое время: 12 : 0\n",
      "Новое время: 0 : 50\n"
     ]
    }
   ],
   "source": [
    "class Minute:\n",
    "    def __init__(self, hours, minutes):\n",
    "        self._minutes = minutes\n",
    "        self._hours = hours\n",
    "    \n",
    "    def time(self):\n",
    "        if self._minutes < 59: #если минуты меньше 59 то прибавляем 1 к минутам\n",
    "            self._minutes += 1\n",
    "        elif self._minutes == 59: #иначе прибавляем 1 к часам\n",
    "            self._minutes = 0\n",
    "            self._hours += 1\n",
    "        print('Новое время:', self._hours,':', self._minutes)\n",
    "        \n",
    "class Hour:\n",
    "    def __init__(self, hours, minutes):\n",
    "        self._minutes = minutes\n",
    "        self._hours = hours\n",
    "    \n",
    "    def time(self):\n",
    "        if self._hours < 23: #если часы меньше 23 то прибавляем 1 к часам\n",
    "            self._hours += 1\n",
    "        elif self._hours == 23: #иначе часы равны нулю\n",
    "            self._hours = 0\n",
    "        print('Новое время:', self._hours,':', self._minutes)\n",
    "            \n",
    "t1 = Minute(11,59)\n",
    "t2 = Hour(23,50)\n",
    "t1.time()\n",
    "t2.time()"
   ]
  },
  {
   "cell_type": "code",
   "execution_count": 6,
   "metadata": {},
   "outputs": [
    {
     "name": "stdout",
     "output_type": "stream",
     "text": [
      "Введите длину стороны квадрата: 5\n",
      "Введите радиус круга: 5\n",
      "Введите длину прямоугольника: 5\n",
      "Введите ширину прямоугольника: 5\n",
      "Площадь квадрата со стороной 5 = 25\n",
      "Площадь круга с радиусом 5 = 78.5\n",
      "Площадь прямоугольника со сторонами 5 и 5 = 25\n"
     ]
    }
   ],
   "source": [
    "class Square:\n",
    "    def __init__(self):\n",
    "        self.a = int(input('Введите длину стороны квадрата: '))\n",
    "    \n",
    "    def S(self):\n",
    "        s = self.a**2  #формула площади квадрата\n",
    "        print('Площадь квадрата со стороной', self.a, '=', round(s, 2))\n",
    "        \n",
    "class Circle:\n",
    "    def __init__(self):\n",
    "        self.r = int(input('Введите радиус круга: '))\n",
    "    \n",
    "    def S(self):\n",
    "        s = 3.14 * (self.r**2)  #формула площади круга\n",
    "        print('Площадь круга с радиусом', self.r, '=', round(s, 2))\n",
    "        \n",
    "class Rectangle:\n",
    "    def __init__(self):\n",
    "        self.a = int(input('Введите длину прямоугольника: '))\n",
    "        self.b = int(input('Введите ширину прямоугольника: '))\n",
    "    \n",
    "    def S(self):\n",
    "        s = self.a * self.b  #формула площади прямоугольника\n",
    "        print('Площадь прямоугольника со сторонами', self.a,'и', self.b, '=', round(s, 2))\n",
    "        \n",
    "sq = Square()\n",
    "c = Circle()\n",
    "r = Rectangle()\n",
    "\n",
    "l = [sq, c, r]\n",
    "\n",
    "for i in l:\n",
    "    i.S()"
   ]
  },
  {
   "cell_type": "code",
   "execution_count": 7,
   "metadata": {},
   "outputs": [
    {
     "name": "stdout",
     "output_type": "stream",
     "text": [
      "Введите длину грани куба: 5\n",
      "Введите радиус шара: 5\n",
      "Введите длину основания параллелепипеда: 5\n",
      "Введите ширину основания параллелепипеда: 4\n",
      "Введите длину грани параллелепипеда: 5\n",
      "Объем куба с длиной грани 5 = 125\n",
      "Объем шара с радиусом 5 = 523.33\n",
      "Объем прямоугольного параллелепипеда со сторонами основания 5 и 4 ,и длиной грани 5 = 100\n"
     ]
    }
   ],
   "source": [
    "class Cube:\n",
    "    def __init__(self):\n",
    "        self.a = int(input('Введите длину грани куба: '))\n",
    "    \n",
    "    def V(self):\n",
    "        v = self.a**3  #формула объема куба\n",
    "        print('Объем куба с длиной грани', self.a, '=', round(v, 2)) #два знака после запятой\n",
    "        \n",
    "class Sphere:\n",
    "    def __init__(self):\n",
    "        self.r = int(input('Введите радиус шара: '))\n",
    "    \n",
    "    def V(self):\n",
    "        v = 3.14 * (4/3) * (self.r**3)  #формула объема шара\n",
    "        print('Объем шара с радиусом', self.r, '=', round(v, 2))\n",
    "        \n",
    "class Rectangular_Parallelepiped:\n",
    "    def __init__(self):\n",
    "        self.a = int(input('Введите длину основания параллелепипеда: '))\n",
    "        self.b = int(input('Введите ширину основания параллелепипеда: '))\n",
    "        self.h = int(input('Введите длину грани параллелепипеда: '))\n",
    "    \n",
    "    def V(self):\n",
    "        v = self.a * self.b * self.h  #формула объема прямоугольного параллелепипеда\n",
    "        print('Объем прямоугольного параллелепипеда со сторонами основания', self.a, 'и', self.b,',и длиной грани', self.h, '=', round(v, 2))\n",
    "        \n",
    "cu = Cube()\n",
    "sph = Sphere()\n",
    "par = Rectangular_Parallelepiped()\n",
    "\n",
    "l = [cu, sph, par]\n",
    "\n",
    "for i in l:\n",
    "    i.V()"
   ]
  },
  {
   "cell_type": "code",
   "execution_count": null,
   "metadata": {},
   "outputs": [],
   "source": []
  }
 ],
 "metadata": {
  "kernelspec": {
   "display_name": "Python 3",
   "language": "python",
   "name": "python3"
  },
  "language_info": {
   "codemirror_mode": {
    "name": "ipython",
    "version": 3
   },
   "file_extension": ".py",
   "mimetype": "text/x-python",
   "name": "python",
   "nbconvert_exporter": "python",
   "pygments_lexer": "ipython3",
   "version": "3.8.3"
  }
 },
 "nbformat": 4,
 "nbformat_minor": 4
}
