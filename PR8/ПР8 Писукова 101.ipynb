{
 "cells": [
  {
   "cell_type": "code",
   "execution_count": 49,
   "metadata": {},
   "outputs": [
    {
     "name": "stdout",
     "output_type": "stream",
     "text": [
      "Blue мертв Red выиграл\n"
     ]
    }
   ],
   "source": [
    "class Warrior:\n",
    "    armor = 0\n",
    "    hp = 100\n",
    "    def __init__(self, armor, hp, name):\n",
    "        self.hp = hp\n",
    "        self.armor = armor\n",
    "        self.name = name\n",
    "        \n",
    "    def randoms(self):\n",
    "        from random import randint\n",
    "        return randint(1,10)\n",
    "    \n",
    "    def hp_damage(self):\n",
    "        if self.hp > 0:\n",
    "            self.hp -= self.randoms()\n",
    "    \n",
    "    def armor_damage(self): #защита уменьшается, а здоровье сохраняется, затем уменьшается здоровье\n",
    "        if self.armor > 0:\n",
    "            self.armor -= 1\n",
    "        elif self.armor <= 0:\n",
    "            self.hp_damage()\n",
    "            \n",
    "    def fight(self,other):\n",
    "        if self.hp <= 0:\n",
    "            print( self.name, 'мертв', other.name, 'выиграл')\n",
    "        elif other.hp <= 0:\n",
    "            print( other.name, 'мертв', self.name, 'выиграл')\n",
    "        while self.hp > 0 and other.hp > 0:\n",
    "            self.armor_damage()\n",
    "            #print(self.armor, other.armor)\n",
    "            #print(self.hp, other.hp)\n",
    "            other.armor_damage()\n",
    "            #print(self.armor, other.armor)\n",
    "            #print(self.hp, other.hp)\n",
    "            self.fight(other)\n",
    "        \n",
    "class Red(Warrior):\n",
    "    def __init__(self):\n",
    "        self.armor = 5\n",
    "        self.name = 'Red'\n",
    "            \n",
    "class Blue(Warrior):\n",
    "    def __init__(self):\n",
    "        self.armor = 3\n",
    "        self.name = 'Blue'\n",
    "        \n",
    "        \n",
    "w1 = Blue()\n",
    "w2 = Red()\n",
    "\n",
    "w1.fight(w2)"
   ]
  },
  {
   "cell_type": "code",
   "execution_count": null,
   "metadata": {},
   "outputs": [],
   "source": []
  },
  {
   "cell_type": "code",
   "execution_count": null,
   "metadata": {},
   "outputs": [],
   "source": []
  }
 ],
 "metadata": {
  "kernelspec": {
   "display_name": "Python 3",
   "language": "python",
   "name": "python3"
  },
  "language_info": {
   "codemirror_mode": {
    "name": "ipython",
    "version": 3
   },
   "file_extension": ".py",
   "mimetype": "text/x-python",
   "name": "python",
   "nbconvert_exporter": "python",
   "pygments_lexer": "ipython3",
   "version": "3.8.3"
  }
 },
 "nbformat": 4,
 "nbformat_minor": 4
}
