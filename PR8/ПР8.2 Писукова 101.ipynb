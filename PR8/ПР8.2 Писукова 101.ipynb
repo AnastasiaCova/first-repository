{
 "cells": [
  {
   "cell_type": "code",
   "execution_count": 41,
   "metadata": {},
   "outputs": [
    {
     "name": "stdout",
     "output_type": "stream",
     "text": [
      "Цена цветов сорта Лилия за 1 шт с учетом скидки в 15 % : 127.5\n"
     ]
    }
   ],
   "source": [
    "class Flower_market:\n",
    "    def __init__(self, name, price):\n",
    "        self.__name = name #название цветка\n",
    "        self.__price = price #цена за штуку\n",
    "        \n",
    "    def set_sale(self, other): #присваиваем новые значения переменным\n",
    "        x = self.__price * other/100\n",
    "        self.__price -= x\n",
    "        \n",
    "    def get_sale(self, other): #выводим новые значения\n",
    "        print('Цена цветов сорта', self.__name, 'за 1 шт с учетом скидки в', other, '% :',self.__price)\n",
    "    \n",
    "f1 = Flower_market('Лилия', 150)\n",
    "\n",
    "f1.set_sale(15)\n",
    "f1.get_sale(15)"
   ]
  },
  {
   "cell_type": "code",
   "execution_count": 62,
   "metadata": {},
   "outputs": [
    {
     "name": "stdout",
     "output_type": "stream",
     "text": [
      "зайчик хочет есть\n",
      "зайчик кушает...\n",
      " Силы зайчик = 3\n",
      "зайчик кушает...\n",
      " Силы зайчик = 4\n",
      "зайчик кушает...\n",
      " Силы зайчик = 5\n",
      "Животное зайчик наелось и спит \n",
      "Питательность травы = 7\n"
     ]
    }
   ],
   "source": [
    "class Animal:\n",
    "    def __init__(self, name, an_power):\n",
    "        self.name = name \n",
    "        self.an_power = an_power\n",
    "        \n",
    "    def add_pow(self, other):\n",
    "        print(self.name, 'хочет есть')\n",
    "        while self.an_power < 5:\n",
    "            other._power -= 1\n",
    "            self.an_power += 1\n",
    "            print(self.name, 'кушает...\\n', 'Силы', self.name, '=', self.an_power)\n",
    "        else:\n",
    "            print('Животное', self.name, 'наелось и спит', '\\nПитательность травы =', other._power)\n",
    "        \n",
    "        \n",
    "    def lunch(self,other):\n",
    "        if self.an_power >=0 and self.an_power <=5:\n",
    "            self.add_pow(other)     \n",
    "        else:\n",
    "            print(self.name, 'не хочет кушать')\n",
    "        \n",
    "class Grass:\n",
    "    def __init__(self):\n",
    "        self._power = 10\n",
    "        \n",
    "g = Grass()\n",
    "a1 = Animal('зайчик', 2)\n",
    "\n",
    "a1.lunch(g)\n",
    "            "
   ]
  },
  {
   "cell_type": "code",
   "execution_count": 10,
   "metadata": {},
   "outputs": [
    {
     "name": "stdout",
     "output_type": "stream",
     "text": [
      "Новое время: 0 : 50\n"
     ]
    }
   ],
   "source": [
    "class Clock:\n",
    "    def __init__(self, hours, minutes):\n",
    "        self._hours = hours \n",
    "        self._minutes = minutes\n",
    "        \n",
    "    def time_min(self):\n",
    "        if self._minutes < 59:\n",
    "            self._minutes += 1\n",
    "        elif self._minutes == 59:\n",
    "            self._minutes = 0\n",
    "            self._hours += 1\n",
    "        print('Новое время:', self._hours,':', self._minutes)\n",
    "            \n",
    "    def time_hour(self):\n",
    "        if self._hours < 23:\n",
    "            self._hours += 1\n",
    "        elif self._hours == 23:\n",
    "            self._hours = 0\n",
    "        print('Новое время:', self._hours,':', self._minutes)\n",
    "            \n",
    "t1 = Clock(23,50)\n",
    "t1.time_hour()"
   ]
  },
  {
   "cell_type": "code",
   "execution_count": null,
   "metadata": {},
   "outputs": [],
   "source": []
  }
 ],
 "metadata": {
  "kernelspec": {
   "display_name": "Python 3",
   "language": "python",
   "name": "python3"
  },
  "language_info": {
   "codemirror_mode": {
    "name": "ipython",
    "version": 3
   },
   "file_extension": ".py",
   "mimetype": "text/x-python",
   "name": "python",
   "nbconvert_exporter": "python",
   "pygments_lexer": "ipython3",
   "version": "3.8.3"
  }
 },
 "nbformat": 4,
 "nbformat_minor": 4
}
