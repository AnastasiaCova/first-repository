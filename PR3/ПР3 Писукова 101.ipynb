{
 "cells": [
  {
   "cell_type": "code",
   "execution_count": 6,
   "metadata": {},
   "outputs": [
    {
     "name": "stdout",
     "output_type": "stream",
     "text": [
      "Строки:\n",
      "котлетки с пюрешкой\n",
      "котлетки котлетки котлетки \n",
      "о\n",
      "кот\n",
      "10\n",
      "С Пюрешкой\n",
      "Котлетки \n"
     ]
    }
   ],
   "source": [
    "print('Строки:')\n",
    "x = 'котлетки '\n",
    "y = 'с пюрешкой'\n",
    "print(x+y) #сложение элементов\n",
    "print(x*3) #повторение строки\n",
    "print(y[-2]) #предпоследний элемент \n",
    "print(x[:3]) #первые 3 элемента\n",
    "print(len(y)) #длинна строки\n",
    "print(y.title()) #1я буква каждого слова в верхний регистр, остальные в нижний\n",
    "print(x.capitalize()) #1й символ строки в верхний регистр, остальные в нижний"
   ]
  },
  {
   "cell_type": "code",
   "execution_count": 19,
   "metadata": {
    "scrolled": true
   },
   "outputs": [
    {
     "name": "stdout",
     "output_type": "stream",
     "text": [
      "Списки:\n",
      "[5, 'котиков', 'и', 3]\n",
      "[5, 'котиков', 'и', 3, 'собачки']\n",
      "собачки\n",
      "['котиков', 'собачки']\n",
      "['собачки', 3, 'и', 'котиков', 5]\n",
      "[5, 'котиков', 3, 'собачки']\n",
      "2\n",
      "[1, 2, 3, 4, 5, 6, 9]\n"
     ]
    }
   ],
   "source": [
    "print('Списки:')\n",
    "x = [5,'котиков', 'и', 3]\n",
    "print(x)\n",
    "x.append('собачки') #добавляем элемент в списка\n",
    "print(x) \n",
    "print(x[-1]) #последний элемент списка\n",
    "print(x[1::3]) #вывести элементы со 2го по последний с шагом 3\n",
    "print(x[::-1]) #в обратном порядке\n",
    "x.pop(2) #вытолкнуть элемент с указанным индексом\n",
    "print(x)\n",
    "print(x.index(3)) #найти индекс указанного элемента\n",
    "y = [4, 6, 1, 5, 3, 2, 9]\n",
    "y.sort()\n",
    "print(y) #сортировать список"
   ]
  },
  {
   "cell_type": "code",
   "execution_count": 20,
   "metadata": {},
   "outputs": [
    {
     "name": "stdout",
     "output_type": "stream",
     "text": [
      "Словари:\n",
      "{'cucumber': 'огурец', 'tomato': 'помидор'}\n",
      "{'cucumber': 'огурец', 'tomato': 'помидор', 'potato': 'картошка'}\n",
      "помидор\n",
      "dict_items([('cucumber', 'огурец'), ('tomato', 'помидор'), ('potato', 'картошка')])\n",
      "dict_keys(['cucumber', 'tomato', 'potato'])\n",
      "{'tomato': 'помидор', 'potato': 'картошка'}\n"
     ]
    }
   ],
   "source": [
    "print('Словари:')\n",
    "d = {'cucumber':'огурец', 'tomato':'помидор'}\n",
    "print(d)\n",
    "d['potato'] = 'картошка' #добавляем новую пару в словарь\n",
    "print(d)\n",
    "print(d['tomato']) #найти значение по ключу\n",
    "print(d.items()) #все пары из словаря\n",
    "print(d.keys()) #все ключи из словаря\n",
    "d.pop('cucumber') #выталкиваем пару по ключу\n",
    "print(d)"
   ]
  },
  {
   "cell_type": "code",
   "execution_count": 32,
   "metadata": {},
   "outputs": [
    {
     "name": "stdout",
     "output_type": "stream",
     "text": [
      "Кортежи:\n",
      "отпусти и забудь \n",
      "ш\n",
      "2\n",
      "('отпусти и забудь ', 'что прошло', 'уже не вернуть', 'отпусти и забудь ', 'что прошло', 'уже не вернуть')\n",
      "2\n"
     ]
    }
   ],
   "source": [
    "print('Кортежи:')\n",
    "x = ('отпусти и забудь ', 'что прошло', 'уже не вернуть')\n",
    "print(x[0]) #элемент кортежа по индексу\n",
    "print(x[1][7]) #составной элемент вложенного в кортеж объекта\n",
    "print(x.index('уже не вернуть')) #индекс элемента в кортеже\n",
    "y=x*2 #повторение элементов кортежа\n",
    "print(y)\n",
    "print(y.count('что прошло')) #количество вхождений элемента в кортеж"
   ]
  },
  {
   "cell_type": "code",
   "execution_count": 19,
   "metadata": {},
   "outputs": [
    {
     "name": "stdout",
     "output_type": "stream",
     "text": [
      "Файлы:\n",
      "Единорогов не существует!\n",
      "r+\n",
      "C:/Users/Настя/Desktop/единорог.txt\n"
     ]
    }
   ],
   "source": [
    "print('Файлы:')\n",
    "x = open('C:/Users/Настя/Desktop/единорог.txt', 'r+') #открыть файл для чтения и записи\n",
    "print(x.read()) #прочитать файл\n",
    "print(x.mode) #режим доступа, с которым был открыт файл\n",
    "print(x.name) #имя файла\n",
    "x.write('\\nЕдинорог - это просто лошадь с рогом') #написать текст в файл\n",
    "x.close() #закрыть файл(обязательное действие)\n",
    "x = open('C:/Users/Настя/Desktop/единорог.txt', 'w') #открыть файл только для записи\n",
    "x.write('Единороги существуют!') #запись текса в файл с заменой содержимого\n",
    "x.close()"
   ]
  },
  {
   "cell_type": "code",
   "execution_count": null,
   "metadata": {},
   "outputs": [],
   "source": []
  }
 ],
 "metadata": {
  "kernelspec": {
   "display_name": "Python 3",
   "language": "python",
   "name": "python3"
  },
  "language_info": {
   "codemirror_mode": {
    "name": "ipython",
    "version": 3
   },
   "file_extension": ".py",
   "mimetype": "text/x-python",
   "name": "python",
   "nbconvert_exporter": "python",
   "pygments_lexer": "ipython3",
   "version": "3.8.3"
  }
 },
 "nbformat": 4,
 "nbformat_minor": 4
}
