{
 "cells": [
  {
   "cell_type": "code",
   "execution_count": 4,
   "metadata": {},
   "outputs": [
    {
     "name": "stdout",
     "output_type": "stream",
     "text": [
      "кот по имени Савелий\n",
      "Савелий младше, чем Аврора\n",
      "кот Савелий теперь живет у новых хозяев\n"
     ]
    }
   ],
   "source": [
    "class Shelter:\n",
    "    def __init__(self, animal, name, age):\n",
    "        self.animal = animal #вид животного\n",
    "        self.name = name\n",
    "        self.age = age\n",
    "    \n",
    "    def __del__(self): #удаляем объект из базы\n",
    "        print(self.animal,self.name,'теперь живет у новых хозяев')\n",
    "        \n",
    "    def __str__(self): #выводим данные объекта при обращении к нему\n",
    "        return self.animal + ' по имени ' + self.name\n",
    "    \n",
    "    def __gt__(self, other): #находим больший объект\n",
    "        if self.age > other.age:\n",
    "            print(self.name, 'старше, чем', other.name)\n",
    "        else:\n",
    "             print(self.name, 'младше, чем', other.name)\n",
    "        \n",
    "        \n",
    "p1 = Shelter('кот', 'Савелий', 4)\n",
    "p2 = Shelter('черепаха', 'Аврора', 6)\n",
    "\n",
    "print(p1) #вывести данные объекта\n",
    "p1 > p2 #находим больший объект\n",
    "del p1 #удаляем объект"
   ]
  },
  {
   "cell_type": "code",
   "execution_count": 16,
   "metadata": {},
   "outputs": [
    {
     "name": "stdout",
     "output_type": "stream",
     "text": [
      "Спортсмен  Рита  удален из базы\n",
      "Спортсмен  Гриша  удален из базы\n",
      "Имя: Рита фамилия: Голубева\n",
      "Количество походов спортсмена Гриша в спортзал за 5 недель: 20 раз\n",
      "Спортсмен  Рита  удален из базы\n"
     ]
    }
   ],
   "source": [
    "class Gym:\n",
    "    def __init__(self, name, time_week):\n",
    "        self.name = name\n",
    "        self.time_week = time_week #количество походов в спортзал в неделю\n",
    "        \n",
    "    def __del__(self): #удаляем объект из базы\n",
    "        print('Спортсмен ', self.name, ' удален из базы')\n",
    "        \n",
    "    def __add__(self, other):  #добавляем к объекту новую строку с фамилией\n",
    "        if (type(other) == str):\n",
    "            print('Имя:', self.name, 'фамилия:', other)\n",
    "            \n",
    "    def __mul__(self, other): #узнаем количество походов в спортзал за несколько недель с помощью метода умножения\n",
    "        self.time_week *= other\n",
    "        print('Количество походов спортсмена', self.name, 'в спортзал за', other, 'недель:', self.time_week, 'раз')\n",
    "        \n",
    "        \n",
    "s1 = Gym('Рита', 2)\n",
    "s2 = Gym('Гриша', 4)\n",
    "\n",
    "s1 + 'Голубева' #добавляем фамилию\n",
    "s2 * 5 #количество походов в 5 недель\n",
    "del s1 #удаляем объект"
   ]
  },
  {
   "cell_type": "code",
   "execution_count": 15,
   "metadata": {},
   "outputs": [
    {
     "name": "stdout",
     "output_type": "stream",
     "text": [
      "Покупка клиента Татьяна оплачена\n",
      "Покупка клиента Сергей оплачена\n",
      "Сумма покупки с учетом скидки в 1.1 % : 314.0 рублей\n",
      "Покупка клиента Сергей оплачена\n"
     ]
    }
   ],
   "source": [
    "class Supermarket:\n",
    "    def __init__(self, name, result):\n",
    "        self.name = name #имя покупателя\n",
    "        self.result = result #общая сумма покупки\n",
    "        \n",
    "    def __del__(self): #удаляем объект из базы\n",
    "        print('Покупка клиента', self.name, 'оплачена')\n",
    "        \n",
    "    def __floordiv__(self, other):  #добавляем скидку от общей суммы покупки\n",
    "        self.result //= other\n",
    "        print('Сумма покупки с учетом скидки в', other, '% :', round(self.result,2), 'рублей')\n",
    "    \n",
    "            \n",
    "c1 = Supermarket('Татьяна', 346)\n",
    "c2 = Supermarket('Сергей', 2405)\n",
    "\n",
    "c1 // 1.1 #применяем скидку\n",
    "del c2 #удаляем объект"
   ]
  },
  {
   "cell_type": "code",
   "execution_count": null,
   "metadata": {},
   "outputs": [],
   "source": []
  }
 ],
 "metadata": {
  "kernelspec": {
   "display_name": "Python 3",
   "language": "python",
   "name": "python3"
  },
  "language_info": {
   "codemirror_mode": {
    "name": "ipython",
    "version": 3
   },
   "file_extension": ".py",
   "mimetype": "text/x-python",
   "name": "python",
   "nbconvert_exporter": "python",
   "pygments_lexer": "ipython3",
   "version": "3.8.5"
  }
 },
 "nbformat": 4,
 "nbformat_minor": 4
}
