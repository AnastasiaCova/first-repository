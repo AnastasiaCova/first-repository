{
 "cells": [
  {
   "cell_type": "code",
   "execution_count": 14,
   "metadata": {},
   "outputs": [
    {
     "name": "stdout",
     "output_type": "stream",
     "text": [
      "Введите коэффициенты для уравнения ax^2 + bx + c = 0:\n",
      "a = 3\n",
      "b = 5\n",
      "c = 2\n",
      "x1 = -2.67 \n",
      "x2 = -4.0\n",
      "Ок\n"
     ]
    }
   ],
   "source": [
    "def Equation():\n",
    "    print('Введите коэффициенты для уравнения ax^2 + bx + c = 0:')\n",
    "    a = int(input(\"a = \"))\n",
    "    b = int(input(\"b = \"))\n",
    "    c = int(input(\"c = \"))\n",
    "    D = b**2 - 4*a*c\n",
    "    if D > 0:\n",
    "        try:\n",
    "            x1 = (-b + D**(1/2)) / a*2\n",
    "            x2 = (-b - D**(1/2)) / a*2\n",
    "        except ZeroDivisionError: #если а=0, то пишет ошибку\n",
    "            print('ZeroDivisionError')\n",
    "        else:\n",
    "            print('x1 =',round(x1, 2),'\\nx2 =', round(x2, 2))\n",
    "        finally:\n",
    "            print('Ок')\n",
    "    elif D == 0:\n",
    "        try:\n",
    "            x = -b / a*2\n",
    "        except ZeroDivisionError: #если а=0, то пишет ошибку\n",
    "            print('ZeroDivisionError')\n",
    "        else:\n",
    "            print('x1 =', round(x, 2))\n",
    "        finally:\n",
    "            print('Ок')\n",
    "    else:\n",
    "        print('Корней нет')\n",
    "        \n",
    "Equation()"
   ]
  },
  {
   "cell_type": "markdown",
   "metadata": {},
   "source": []
  },
  {
   "cell_type": "code",
   "execution_count": 50,
   "metadata": {},
   "outputs": [
    {
     "name": "stdout",
     "output_type": "stream",
     "text": [
      "Функция загружается...\n",
      "4\n",
      "Ок\n"
     ]
    }
   ],
   "source": [
    "def mass(l):\n",
    "    try:\n",
    "        if len(l) <= 10: #если длина массива меньше 10\n",
    "            print('Функция загружается...')\n",
    "            print(l[-1]//2) #делим на 2 без остатка\n",
    "        else:\n",
    "            print('Превышен лимит допустимых значений')\n",
    "    except TypeError: #ошибка если делим строку на 2\n",
    "        print('Недопустимая операция для типа данных', type(l[-1]))\n",
    "    finally:\n",
    "        print('Ок')\n",
    "        \n",
    "n = [1,2,3,4,5,6,7,8,9,8]\n",
    "mass(n)"
   ]
  },
  {
   "cell_type": "code",
   "execution_count": 16,
   "metadata": {},
   "outputs": [
    {
     "name": "stdout",
     "output_type": "stream",
     "text": [
      "Шоколадка с миндалем\n",
      "В классе Chocolate нет указанной функции\n",
      "Ок\n"
     ]
    }
   ],
   "source": [
    "class Chocolate:\n",
    "    def __init__(self):\n",
    "        self.name = 'Шоколадка '\n",
    "    \n",
    "    def __add__(self, other):\n",
    "        self.name += other #добавляем значение вкуса шоколадки\n",
    "        print(self.name)\n",
    "\n",
    "c1 = Chocolate()\n",
    "try:\n",
    "    c1 + 'с миндалем'\n",
    "    c1.po()\n",
    "except AttributeError:\n",
    "    print('В классе Chocolate нет указанной функции')\n",
    "finally:\n",
    "    print('Ок')\n",
    "    "
   ]
  },
  {
   "cell_type": "code",
   "execution_count": 42,
   "metadata": {},
   "outputs": [
    {
     "name": "stdout",
     "output_type": "stream",
     "text": [
      "Введите свой возраст: 23\n",
      "Документ подтверждающий личность - паспорт\n"
     ]
    }
   ],
   "source": [
    "#проверка наличия паспорта либо свидетельства о рождении по возрасту человека\n",
    "\n",
    "def Passport():\n",
    "    try:\n",
    "        age = int(input('Введите свой возраст: '))\n",
    "        if age < 0:\n",
    "            raise ValueError #ошибка некорректного значения\n",
    "    except ValueError:\n",
    "        print('Значение некорректно')\n",
    "    else:\n",
    "        if age >= 14:\n",
    "            print('Документ подтверждающий личность - паспорт')\n",
    "        elif age < 14:\n",
    "            print('Документ подтверждающий личность - свидетельство о рождении')\n",
    "            \n",
    "Passport()"
   ]
  },
  {
   "cell_type": "code",
   "execution_count": 49,
   "metadata": {},
   "outputs": [
    {
     "name": "stdout",
     "output_type": "stream",
     "text": [
      "Введите день вашего рождения: -22\n",
      "Введите число месяца вашего рождения: 3\n",
      "Дата рождения некорректна\n"
     ]
    }
   ],
   "source": [
    "class MinusError(Exception): #пользовательское исключение\n",
    "    pass\n",
    "\n",
    "def birthday():\n",
    "    try:\n",
    "        day = int(input('Введите день вашего рождения: '))\n",
    "        month = int(input('Введите число месяца вашего рождения: '))\n",
    "        if day < 0: #если день и месяц отрицательны, то ошибка\n",
    "            raise MinusError\n",
    "        if month < 0:\n",
    "            raise MinusError\n",
    "    except MinusError:\n",
    "        print('Дата рождения некорректна')\n",
    "    else:\n",
    "        print('Если бы сегодня было', day,'е число', month,'го месяца\\nТо мы бы сказали Вам:\\nС днём рождения!')\n",
    "    \n",
    "birthday()"
   ]
  },
  {
   "cell_type": "code",
   "execution_count": null,
   "metadata": {},
   "outputs": [],
   "source": []
  }
 ],
 "metadata": {
  "kernelspec": {
   "display_name": "Python 3",
   "language": "python",
   "name": "python3"
  },
  "language_info": {
   "codemirror_mode": {
    "name": "ipython",
    "version": 3
   },
   "file_extension": ".py",
   "mimetype": "text/x-python",
   "name": "python",
   "nbconvert_exporter": "python",
   "pygments_lexer": "ipython3",
   "version": "3.8.3"
  }
 },
 "nbformat": 4,
 "nbformat_minor": 4
}
