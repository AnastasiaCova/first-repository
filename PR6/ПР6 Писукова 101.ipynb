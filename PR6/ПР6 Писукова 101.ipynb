{
 "cells": [
  {
   "cell_type": "code",
   "execution_count": 21,
   "metadata": {},
   "outputs": [
    {
     "name": "stdout",
     "output_type": "stream",
     "text": [
      "Гермиона и её друг Гарри\n",
      "Хагрид и его друг Гермиона\n",
      "Дамблдор - директор\n",
      "Гарри - ученик\n"
     ]
    }
   ],
   "source": [
    "class Hogwarts():\n",
    "    def __init__(self,name,male,post,friends):\n",
    "        self.name = name\n",
    "        self.male = male\n",
    "        self.post = post\n",
    "        self.friends = friends\n",
    "        \n",
    "    def friendship(self):\n",
    "        if (self.male == 'ж'):\n",
    "            n = 'её'\n",
    "        else:\n",
    "            n = 'его'\n",
    "        print(self.name + ' и ' + n + ' друг '+ self.friends)\n",
    "        \n",
    "    def position(self):\n",
    "        print(self.name + ' - ' + self.post)\n",
    "    \n",
    "student1 = Hogwarts('Гермиона', 'ж', 'ученица', 'Гарри')\n",
    "student2 = Hogwarts('Гарри', 'м', 'ученик', 'Рон')\n",
    "teacher1 = Hogwarts('Дамблдор','м', 'директор', 'Гарри')\n",
    "teacher2 = Hogwarts('Хагрид', 'м', 'учитель', 'Гермиона')\n",
    "\n",
    "student1.friendship()\n",
    "teacher2.friendship()\n",
    "teacher1.position()\n",
    "student2.position()"
   ]
  },
  {
   "cell_type": "code",
   "execution_count": null,
   "metadata": {},
   "outputs": [],
   "source": []
  }
 ],
 "metadata": {
  "kernelspec": {
   "display_name": "Python 3",
   "language": "python",
   "name": "python3"
  },
  "language_info": {
   "codemirror_mode": {
    "name": "ipython",
    "version": 3
   },
   "file_extension": ".py",
   "mimetype": "text/x-python",
   "name": "python",
   "nbconvert_exporter": "python",
   "pygments_lexer": "ipython3",
   "version": "3.8.3"
  }
 },
 "nbformat": 4,
 "nbformat_minor": 4
}
