{
 "cells": [
  {
   "cell_type": "code",
   "execution_count": 1,
   "metadata": {},
   "outputs": [
    {
     "name": "stdout",
     "output_type": "stream",
     "text": [
      "Введите путь к папке: C:/Users/Public/Pictures/Sample Pictures\n",
      "Файлы в папке Pictures:\n",
      "Chrysanthemum.jpg\n",
      "Desert.jpg\n",
      "desktop.ini\n",
      "Hydrangeas.jpg\n",
      "Jellyfish.jpg\n",
      "Koala.jpg\n",
      "Lighthouse.jpg\n",
      "Penguins.jpg\n",
      "Thumbs.db\n",
      "Tulips.jpg\n"
     ]
    }
   ],
   "source": [
    "def show_files():\n",
    "    import os\n",
    "    #C:/Users/User/Pictures\n",
    "    #C:/Users/Public/Pictures/Sample Pictures\n",
    "    directory = input('Введите путь к папке: ') \n",
    "    files = os.listdir(directory) #все папки и файлы, находящиеся в данной директории\n",
    "    print('Файлы в папке Pictures:')\n",
    "    print('\\n'.join(files))\n",
    "    \n",
    "show_files()"
   ]
  },
  {
   "cell_type": "code",
   "execution_count": 34,
   "metadata": {},
   "outputs": [
    {
     "name": "stdout",
     "output_type": "stream",
     "text": [
      "Введите имя файла: black.txt\n",
      "\n",
      "Читаем текст из файла...\n",
      "\n",
      "www\n",
      "\n",
      "ooo\n",
      "\n",
      "rrr\n",
      "\n",
      "lll\n",
      "\n",
      "ddd\n",
      "\n",
      " \n"
     ]
    }
   ],
   "source": [
    "def readme():\n",
    "    file = input('Введите имя файла: ')\n",
    "    x = open(file, 'r')\n",
    "    reading = x.read().split('\\n') #все строки документа\n",
    "    print('\\nЧитаем текст из файла...\\n')\n",
    "    print('\\n'.join(reading))\n",
    "    x.close()\n",
    "    \n",
    "readme()"
   ]
  },
  {
   "cell_type": "code",
   "execution_count": 33,
   "metadata": {},
   "outputs": [
    {
     "name": "stdout",
     "output_type": "stream",
     "text": [
      "Введите имя файла: black.txt\n",
      "Введите текст, который нужно записать в файл:  \n",
      "\n",
      "Читаем текст из файла...\n",
      "\n",
      "www\n",
      "\n",
      "ooo\n",
      "\n",
      "rrr\n",
      "\n",
      "lll\n",
      "\n",
      "ddd\n",
      "\n",
      " \n"
     ]
    }
   ],
   "source": [
    "def writeinme():\n",
    "    file = input('Введите имя файла: ')\n",
    "    try:\n",
    "        x = open(file, 'r')\n",
    "    except FileNotFoundError: #если файла несуществует, то создать новый\n",
    "        x = open(file, 'w+')\n",
    "    finally:\n",
    "        text = input('Введите текст, который нужно записать в файл: ')\n",
    "        read = x.read().split('\\n')\n",
    "        #print(len(read))\n",
    "        #print(read)\n",
    "        x.close()\n",
    "        if len(read) == 1: #если документ пуст, то записывает значение\n",
    "            x = open(file, 'a+')\n",
    "            x.write(text)\n",
    "        elif len(read) > 1: #если не пуст, то записывает значение через пустую строку\n",
    "            x = open(file, 'a+')\n",
    "            x.write('\\n')\n",
    "            x.write('\\n')\n",
    "            x.write(text)\n",
    "        x = open(file, 'r')\n",
    "        print('\\nЧитаем текст из файла...\\n')\n",
    "        print(x.read())\n",
    "        x.close()\n",
    "    \n",
    "writeinme()"
   ]
  },
  {
   "cell_type": "code",
   "execution_count": 75,
   "metadata": {},
   "outputs": [
    {
     "name": "stdout",
     "output_type": "stream",
     "text": [
      "Введите имя файла: оценки.txt\n",
      "Учащиеся с оценкой ниже 3х баллов:\n",
      "\n",
      "Дмитриев Н. 2\n",
      "\n",
      "Котов Д. 2\n",
      "\n",
      "Бирюкова Н. 1\n",
      "\n",
      "Лемонов Ю. 2\n",
      "\n",
      "Средний балл: 2.75\n"
     ]
    }
   ],
   "source": [
    "def school_grades():\n",
    "    file = input('Введите имя файла: ')\n",
    "    x =  open(file, 'r+')\n",
    "    l = x.readlines() #записываем все строки документа\n",
    "    print('Учащиеся с оценкой ниже 3х баллов:\\n')\n",
    "    for i in range(len(l)): \n",
    "        if l[i][-2] == '2' or l[i][-2] == '1': #если оценка ниже 3х, то печатает имя учащегося\n",
    "            print(l[i])\n",
    "    grades = [int(l[i][-2])]\n",
    "    average_score = len(l) / sum(grades) #средний балл\n",
    "    print('Средний балл:', average_score)\n",
    "    x.close()\n",
    "    \n",
    "school_grades()\n",
    "#оценки.txt"
   ]
  },
  {
   "cell_type": "code",
   "execution_count": 79,
   "metadata": {},
   "outputs": [
    {
     "name": "stdout",
     "output_type": "stream",
     "text": [
      "Введите имя файла: оценки.txt\n",
      "Количество строк: 11 \n",
      "\n",
      "Количество символов в строке 0 : 12\n",
      "Количество слов в строке 0 : 3 \n",
      "\n",
      "Количество символов в строке 1 : 12\n",
      "Количество слов в строке 1 : 3 \n",
      "\n",
      "Количество символов в строке 2 : 14\n",
      "Количество слов в строке 2 : 3 \n",
      "\n",
      "Количество символов в строке 3 : 14\n",
      "Количество слов в строке 3 : 3 \n",
      "\n",
      "Количество символов в строке 4 : 16\n",
      "Количество слов в строке 4 : 3 \n",
      "\n",
      "Количество символов в строке 5 : 11\n",
      "Количество слов в строке 5 : 3 \n",
      "\n",
      "Количество символов в строке 6 : 14\n",
      "Количество слов в строке 6 : 3 \n",
      "\n",
      "Количество символов в строке 7 : 13\n",
      "Количество слов в строке 7 : 3 \n",
      "\n",
      "Количество символов в строке 8 : 14\n",
      "Количество слов в строке 8 : 3 \n",
      "\n",
      "Количество символов в строке 9 : 13\n",
      "Количество слов в строке 9 : 3 \n",
      "\n",
      "Количество символов в строке 10 : 13\n",
      "Количество слов в строке 10 : 3 \n",
      "\n"
     ]
    }
   ],
   "source": [
    "def lines():\n",
    "    file = input('Введите имя файла: ')\n",
    "    x =  open(file, 'r+')\n",
    "    l = x.readlines()\n",
    "    print('Количество строк:', len(l), '\\n')\n",
    "    for i in range(len(l)):\n",
    "        print('Количество символов в строке', i, ':', len(l[i]))\n",
    "        print('Количество слов в строке', i, ':', len(l[i].split(' ')), '\\n')\n",
    "    x.close()\n",
    "    \n",
    "lines()"
   ]
  },
  {
   "cell_type": "code",
   "execution_count": null,
   "metadata": {},
   "outputs": [],
   "source": []
  }
 ],
 "metadata": {
  "kernelspec": {
   "display_name": "Python 3",
   "language": "python",
   "name": "python3"
  },
  "language_info": {
   "codemirror_mode": {
    "name": "ipython",
    "version": 3
   },
   "file_extension": ".py",
   "mimetype": "text/x-python",
   "name": "python",
   "nbconvert_exporter": "python",
   "pygments_lexer": "ipython3",
   "version": "3.8.3"
  }
 },
 "nbformat": 4,
 "nbformat_minor": 4
}
