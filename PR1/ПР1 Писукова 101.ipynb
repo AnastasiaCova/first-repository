{
 "cells": [
  {
   "cell_type": "code",
   "execution_count": 3,
   "metadata": {},
   "outputs": [
    {
     "name": "stdout",
     "output_type": "stream",
     "text": [
      "33 30\n"
     ]
    }
   ],
   "source": [
    "a = 30\n",
    "b = 33\n",
    "a, b = b, a\n",
    "print(a,b)"
   ]
  },
  {
   "cell_type": "code",
   "execution_count": null,
   "metadata": {},
   "outputs": [],
   "source": [
    "x = int(input('Введите число: '))\n",
    "print('Сумма цифр числа =', sum(map(int, str(x))))"
   ]
  },
  {
   "cell_type": "code",
   "execution_count": 6,
   "metadata": {},
   "outputs": [
    {
     "name": "stdout",
     "output_type": "stream",
     "text": [
      "Введите коэффициенты для уравнения ax^2 + bx + c = 0:\n",
      "a = 1\n",
      "b = 2\n",
      "c = -3\n",
      "1.0 -3.0\n"
     ]
    }
   ],
   "source": [
    "print('Введите коэффициенты для уравнения ax^2 + bx + c = 0:')\n",
    "a = int(input(\"a = \"))\n",
    "b = int(input(\"b = \"))\n",
    "c = int(input(\"c = \"))\n",
    "D = b**2 - 4*a*c\n",
    "if D > 0:\n",
    "    x1 = (-b + D**(1/2)) / 2*a\n",
    "    x2 = (-b - D**(1/2)) / 2*a\n",
    "    print(x1, x2)\n",
    "elif D == 0:\n",
    "    x = -b / (2 * a)\n",
    "    print(x)\n",
    "else:\n",
    "    print(\"Корней нет\")"
   ]
  },
  {
   "cell_type": "code",
   "execution_count": null,
   "metadata": {},
   "outputs": [],
   "source": []
  }
 ],
 "metadata": {
  "kernelspec": {
   "display_name": "Python 3",
   "language": "python",
   "name": "python3"
  },
  "language_info": {
   "codemirror_mode": {
    "name": "ipython",
    "version": 3
   },
   "file_extension": ".py",
   "mimetype": "text/x-python",
   "name": "python",
   "nbconvert_exporter": "python",
   "pygments_lexer": "ipython3",
   "version": "3.8.5"
  }
 },
 "nbformat": 4,
 "nbformat_minor": 4
}
