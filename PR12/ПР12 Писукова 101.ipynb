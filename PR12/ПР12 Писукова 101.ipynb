{
 "cells": [
  {
   "cell_type": "code",
   "execution_count": 48,
   "metadata": {},
   "outputs": [
    {
     "name": "stdout",
     "output_type": "stream",
     "text": [
      "234536\n",
      "{'4', '6', '3', '5', '2'} \n",
      " 5\n"
     ]
    }
   ],
   "source": [
    "def to_set():\n",
    "    Set = set(input(''))\n",
    "    print(Set, '\\n', len(Set))\n",
    "    \n",
    "to_set()"
   ]
  },
  {
   "cell_type": "code",
   "execution_count": 51,
   "metadata": {},
   "outputs": [
    {
     "name": "stdout",
     "output_type": "stream",
     "text": [
      "{1}\n"
     ]
    }
   ],
   "source": [
    "def diff(a, b, c, symmetric):\n",
    "    if symmetric == False:\n",
    "        print(a-b-c) #1\n",
    "    else:\n",
    "        print(a^b^c) #1, 2, 3, 6, 9\n",
    "    \n",
    "a = {1, 4, 7} \n",
    "b = {2, 3, 7}\n",
    "c = {4, 6, 9}\n",
    "diff(a,b,c, False)"
   ]
  },
  {
   "cell_type": "code",
   "execution_count": 57,
   "metadata": {},
   "outputs": [
    {
     "name": "stdout",
     "output_type": "stream",
     "text": [
      "Супермножество не обнаружено\n"
     ]
    }
   ],
   "source": [
    "def superset(a,b):\n",
    "    if a == b:\n",
    "            print('Множества равны')\n",
    "    elif (a >= b) == True:\n",
    "        print('Объект', a, 'является чистым супермножеством')\n",
    "    elif (a >= b) == False:\n",
    "        print('Супермножество не обнаружено')\n",
    "            \n",
    "a = {1, 4, 7} \n",
    "b = {1, 4, 5}\n",
    "superset(a,b)"
   ]
  },
  {
   "cell_type": "code",
   "execution_count": null,
   "metadata": {},
   "outputs": [],
   "source": []
  }
 ],
 "metadata": {
  "kernelspec": {
   "display_name": "Python 3",
   "language": "python",
   "name": "python3"
  },
  "language_info": {
   "codemirror_mode": {
    "name": "ipython",
    "version": 3
   },
   "file_extension": ".py",
   "mimetype": "text/x-python",
   "name": "python",
   "nbconvert_exporter": "python",
   "pygments_lexer": "ipython3",
   "version": "3.8.5"
  }
 },
 "nbformat": 4,
 "nbformat_minor": 4
}
